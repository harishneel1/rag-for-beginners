{
 "cells": [
  {
   "cell_type": "code",
   "execution_count": 17,
   "id": "fb228380",
   "metadata": {},
   "outputs": [
    {
     "data": {
      "text/plain": [
       "True"
      ]
     },
     "execution_count": 17,
     "metadata": {},
     "output_type": "execute_result"
    }
   ],
   "source": [
    "from langchain.retrievers import EnsembleRetriever, BM25Retriever\n",
    "from langchain_openai import OpenAIEmbeddings\n",
    "from langchain_chroma import Chroma\n",
    "from langchain_core.documents import Document\n",
    "from langchain_cohere import CohereRerank\n",
    "from dotenv import load_dotenv\n",
    "\n",
    "load_dotenv()"
   ]
  },
  {
   "cell_type": "code",
   "execution_count": 18,
   "id": "80c93c44",
   "metadata": {},
   "outputs": [
    {
     "name": "stdout",
     "output_type": "stream",
     "text": [
      "Requirement already satisfied: langchain_cohere in ./venv/lib/python3.13/site-packages (0.4.5)\n",
      "Requirement already satisfied: cohere<6.0,>=5.12.0 in ./venv/lib/python3.13/site-packages (from langchain_cohere) (5.17.0)\n",
      "Requirement already satisfied: langchain-community<0.4.0,>=0.3.0 in ./venv/lib/python3.13/site-packages (from langchain_cohere) (0.3.29)\n",
      "Requirement already satisfied: langchain-core<0.4.0,>=0.3.27 in ./venv/lib/python3.13/site-packages (from langchain_cohere) (0.3.75)\n",
      "Requirement already satisfied: pydantic<3,>=2 in ./venv/lib/python3.13/site-packages (from langchain_cohere) (2.11.7)\n",
      "Requirement already satisfied: types-pyyaml<7.0.0.0,>=6.0.12.20240917 in ./venv/lib/python3.13/site-packages (from langchain_cohere) (6.0.12.20250822)\n",
      "Requirement already satisfied: fastavro<2.0.0,>=1.9.4 in ./venv/lib/python3.13/site-packages (from cohere<6.0,>=5.12.0->langchain_cohere) (1.12.0)\n",
      "Requirement already satisfied: httpx>=0.21.2 in ./venv/lib/python3.13/site-packages (from cohere<6.0,>=5.12.0->langchain_cohere) (0.28.1)\n",
      "Requirement already satisfied: httpx-sse==0.4.0 in ./venv/lib/python3.13/site-packages (from cohere<6.0,>=5.12.0->langchain_cohere) (0.4.0)\n",
      "Requirement already satisfied: pydantic-core<3.0.0,>=2.18.2 in ./venv/lib/python3.13/site-packages (from cohere<6.0,>=5.12.0->langchain_cohere) (2.33.2)\n",
      "Requirement already satisfied: requests<3.0.0,>=2.0.0 in ./venv/lib/python3.13/site-packages (from cohere<6.0,>=5.12.0->langchain_cohere) (2.32.5)\n",
      "Requirement already satisfied: tokenizers<1,>=0.15 in ./venv/lib/python3.13/site-packages (from cohere<6.0,>=5.12.0->langchain_cohere) (0.22.0)\n",
      "Requirement already satisfied: types-requests<3.0.0,>=2.0.0 in ./venv/lib/python3.13/site-packages (from cohere<6.0,>=5.12.0->langchain_cohere) (2.32.4.20250809)\n",
      "Requirement already satisfied: typing_extensions>=4.0.0 in ./venv/lib/python3.13/site-packages (from cohere<6.0,>=5.12.0->langchain_cohere) (4.14.1)\n",
      "Requirement already satisfied: langchain<2.0.0,>=0.3.27 in ./venv/lib/python3.13/site-packages (from langchain-community<0.4.0,>=0.3.0->langchain_cohere) (0.3.27)\n",
      "Requirement already satisfied: SQLAlchemy<3,>=1.4 in ./venv/lib/python3.13/site-packages (from langchain-community<0.4.0,>=0.3.0->langchain_cohere) (2.0.43)\n",
      "Requirement already satisfied: PyYAML>=5.3 in ./venv/lib/python3.13/site-packages (from langchain-community<0.4.0,>=0.3.0->langchain_cohere) (6.0.2)\n",
      "Requirement already satisfied: aiohttp<4.0.0,>=3.8.3 in ./venv/lib/python3.13/site-packages (from langchain-community<0.4.0,>=0.3.0->langchain_cohere) (3.12.15)\n",
      "Requirement already satisfied: tenacity!=8.4.0,<10,>=8.1.0 in ./venv/lib/python3.13/site-packages (from langchain-community<0.4.0,>=0.3.0->langchain_cohere) (9.1.2)\n",
      "Requirement already satisfied: dataclasses-json<0.7,>=0.6.7 in ./venv/lib/python3.13/site-packages (from langchain-community<0.4.0,>=0.3.0->langchain_cohere) (0.6.7)\n",
      "Requirement already satisfied: pydantic-settings<3.0.0,>=2.10.1 in ./venv/lib/python3.13/site-packages (from langchain-community<0.4.0,>=0.3.0->langchain_cohere) (2.10.1)\n",
      "Requirement already satisfied: langsmith>=0.1.125 in ./venv/lib/python3.13/site-packages (from langchain-community<0.4.0,>=0.3.0->langchain_cohere) (0.4.16)\n",
      "Requirement already satisfied: numpy>=2.1.0 in ./venv/lib/python3.13/site-packages (from langchain-community<0.4.0,>=0.3.0->langchain_cohere) (2.2.6)\n",
      "Requirement already satisfied: aiohappyeyeballs>=2.5.0 in ./venv/lib/python3.13/site-packages (from aiohttp<4.0.0,>=3.8.3->langchain-community<0.4.0,>=0.3.0->langchain_cohere) (2.6.1)\n",
      "Requirement already satisfied: aiosignal>=1.4.0 in ./venv/lib/python3.13/site-packages (from aiohttp<4.0.0,>=3.8.3->langchain-community<0.4.0,>=0.3.0->langchain_cohere) (1.4.0)\n",
      "Requirement already satisfied: attrs>=17.3.0 in ./venv/lib/python3.13/site-packages (from aiohttp<4.0.0,>=3.8.3->langchain-community<0.4.0,>=0.3.0->langchain_cohere) (25.3.0)\n",
      "Requirement already satisfied: frozenlist>=1.1.1 in ./venv/lib/python3.13/site-packages (from aiohttp<4.0.0,>=3.8.3->langchain-community<0.4.0,>=0.3.0->langchain_cohere) (1.7.0)\n",
      "Requirement already satisfied: multidict<7.0,>=4.5 in ./venv/lib/python3.13/site-packages (from aiohttp<4.0.0,>=3.8.3->langchain-community<0.4.0,>=0.3.0->langchain_cohere) (6.6.4)\n",
      "Requirement already satisfied: propcache>=0.2.0 in ./venv/lib/python3.13/site-packages (from aiohttp<4.0.0,>=3.8.3->langchain-community<0.4.0,>=0.3.0->langchain_cohere) (0.3.2)\n",
      "Requirement already satisfied: yarl<2.0,>=1.17.0 in ./venv/lib/python3.13/site-packages (from aiohttp<4.0.0,>=3.8.3->langchain-community<0.4.0,>=0.3.0->langchain_cohere) (1.20.1)\n",
      "Requirement already satisfied: marshmallow<4.0.0,>=3.18.0 in ./venv/lib/python3.13/site-packages (from dataclasses-json<0.7,>=0.6.7->langchain-community<0.4.0,>=0.3.0->langchain_cohere) (3.26.1)\n",
      "Requirement already satisfied: typing-inspect<1,>=0.4.0 in ./venv/lib/python3.13/site-packages (from dataclasses-json<0.7,>=0.6.7->langchain-community<0.4.0,>=0.3.0->langchain_cohere) (0.9.0)\n",
      "Requirement already satisfied: langchain-text-splitters<1.0.0,>=0.3.9 in ./venv/lib/python3.13/site-packages (from langchain<2.0.0,>=0.3.27->langchain-community<0.4.0,>=0.3.0->langchain_cohere) (0.3.9)\n",
      "Requirement already satisfied: jsonpatch<2.0,>=1.33 in ./venv/lib/python3.13/site-packages (from langchain-core<0.4.0,>=0.3.27->langchain_cohere) (1.33)\n",
      "Requirement already satisfied: packaging>=23.2 in ./venv/lib/python3.13/site-packages (from langchain-core<0.4.0,>=0.3.27->langchain_cohere) (25.0)\n",
      "Requirement already satisfied: jsonpointer>=1.9 in ./venv/lib/python3.13/site-packages (from jsonpatch<2.0,>=1.33->langchain-core<0.4.0,>=0.3.27->langchain_cohere) (3.0.0)\n",
      "Requirement already satisfied: annotated-types>=0.6.0 in ./venv/lib/python3.13/site-packages (from pydantic<3,>=2->langchain_cohere) (0.7.0)\n",
      "Requirement already satisfied: typing-inspection>=0.4.0 in ./venv/lib/python3.13/site-packages (from pydantic<3,>=2->langchain_cohere) (0.4.1)\n",
      "Requirement already satisfied: python-dotenv>=0.21.0 in ./venv/lib/python3.13/site-packages (from pydantic-settings<3.0.0,>=2.10.1->langchain-community<0.4.0,>=0.3.0->langchain_cohere) (1.1.1)\n",
      "Requirement already satisfied: charset_normalizer<4,>=2 in ./venv/lib/python3.13/site-packages (from requests<3.0.0,>=2.0.0->cohere<6.0,>=5.12.0->langchain_cohere) (3.4.3)\n",
      "Requirement already satisfied: idna<4,>=2.5 in ./venv/lib/python3.13/site-packages (from requests<3.0.0,>=2.0.0->cohere<6.0,>=5.12.0->langchain_cohere) (3.10)\n",
      "Requirement already satisfied: urllib3<3,>=1.21.1 in ./venv/lib/python3.13/site-packages (from requests<3.0.0,>=2.0.0->cohere<6.0,>=5.12.0->langchain_cohere) (2.5.0)\n",
      "Requirement already satisfied: certifi>=2017.4.17 in ./venv/lib/python3.13/site-packages (from requests<3.0.0,>=2.0.0->cohere<6.0,>=5.12.0->langchain_cohere) (2025.8.3)\n",
      "Requirement already satisfied: huggingface-hub<1.0,>=0.16.4 in ./venv/lib/python3.13/site-packages (from tokenizers<1,>=0.15->cohere<6.0,>=5.12.0->langchain_cohere) (0.34.4)\n",
      "Requirement already satisfied: filelock in ./venv/lib/python3.13/site-packages (from huggingface-hub<1.0,>=0.16.4->tokenizers<1,>=0.15->cohere<6.0,>=5.12.0->langchain_cohere) (3.19.1)\n",
      "Requirement already satisfied: fsspec>=2023.5.0 in ./venv/lib/python3.13/site-packages (from huggingface-hub<1.0,>=0.16.4->tokenizers<1,>=0.15->cohere<6.0,>=5.12.0->langchain_cohere) (2025.7.0)\n",
      "Requirement already satisfied: tqdm>=4.42.1 in ./venv/lib/python3.13/site-packages (from huggingface-hub<1.0,>=0.16.4->tokenizers<1,>=0.15->cohere<6.0,>=5.12.0->langchain_cohere) (4.67.1)\n",
      "Requirement already satisfied: hf-xet<2.0.0,>=1.1.3 in ./venv/lib/python3.13/site-packages (from huggingface-hub<1.0,>=0.16.4->tokenizers<1,>=0.15->cohere<6.0,>=5.12.0->langchain_cohere) (1.1.8)\n",
      "Requirement already satisfied: mypy-extensions>=0.3.0 in ./venv/lib/python3.13/site-packages (from typing-inspect<1,>=0.4.0->dataclasses-json<0.7,>=0.6.7->langchain-community<0.4.0,>=0.3.0->langchain_cohere) (1.1.0)\n",
      "Requirement already satisfied: anyio in ./venv/lib/python3.13/site-packages (from httpx>=0.21.2->cohere<6.0,>=5.12.0->langchain_cohere) (4.10.0)\n",
      "Requirement already satisfied: httpcore==1.* in ./venv/lib/python3.13/site-packages (from httpx>=0.21.2->cohere<6.0,>=5.12.0->langchain_cohere) (1.0.9)\n",
      "Requirement already satisfied: h11>=0.16 in ./venv/lib/python3.13/site-packages (from httpcore==1.*->httpx>=0.21.2->cohere<6.0,>=5.12.0->langchain_cohere) (0.16.0)\n",
      "Requirement already satisfied: orjson>=3.9.14 in ./venv/lib/python3.13/site-packages (from langsmith>=0.1.125->langchain-community<0.4.0,>=0.3.0->langchain_cohere) (3.11.2)\n",
      "Requirement already satisfied: requests-toolbelt>=1.0.0 in ./venv/lib/python3.13/site-packages (from langsmith>=0.1.125->langchain-community<0.4.0,>=0.3.0->langchain_cohere) (1.0.0)\n",
      "Requirement already satisfied: zstandard>=0.23.0 in ./venv/lib/python3.13/site-packages (from langsmith>=0.1.125->langchain-community<0.4.0,>=0.3.0->langchain_cohere) (0.24.0)\n",
      "Requirement already satisfied: sniffio>=1.1 in ./venv/lib/python3.13/site-packages (from anyio->httpx>=0.21.2->cohere<6.0,>=5.12.0->langchain_cohere) (1.3.1)\n",
      "\n",
      "\u001b[1m[\u001b[0m\u001b[34;49mnotice\u001b[0m\u001b[1;39;49m]\u001b[0m\u001b[39;49m A new release of pip is available: \u001b[0m\u001b[31;49m25.1.1\u001b[0m\u001b[39;49m -> \u001b[0m\u001b[32;49m25.2\u001b[0m\n",
      "\u001b[1m[\u001b[0m\u001b[34;49mnotice\u001b[0m\u001b[1;39;49m]\u001b[0m\u001b[39;49m To update, run: \u001b[0m\u001b[32;49mpip install --upgrade pip\u001b[0m\n",
      "Note: you may need to restart the kernel to use updated packages.\n"
     ]
    }
   ],
   "source": [
    "%pip install langchain_cohere"
   ]
  },
  {
   "cell_type": "markdown",
   "id": "47b97fbb",
   "metadata": {},
   "source": [
    "SETUP: Create expanded sample company data (50+ chunks)"
   ]
  },
  {
   "cell_type": "code",
   "execution_count": 19,
   "id": "873e6485",
   "metadata": {},
   "outputs": [
    {
     "name": "stdout",
     "output_type": "stream",
     "text": [
      "Created 60 sample chunks for demonstration\n"
     ]
    }
   ],
   "source": [
    "chunks = [\n",
    "    # Tesla - Financial & Production\n",
    "    \"Tesla reported record quarterly revenue of $25.2 billion in Q3 2024.\",\n",
    "    \"Tesla's automotive gross margin improved to 19.3% this quarter.\",\n",
    "    \"Tesla Cybertruck production ramp begins in 2024 with initial deliveries.\",\n",
    "    \"Tesla announced plans to expand Gigafactory production capacity.\",\n",
    "    \"Tesla stock price reached new highs following earnings announcement.\",\n",
    "    \"Tesla's energy storage business grew 40% year-over-year.\",\n",
    "    \"Tesla continues to lead in electric vehicle market share globally.\",\n",
    "    \"Tesla Model Y became the best-selling vehicle worldwide.\",\n",
    "    \"Tesla reported strong free cash flow generation of $7.5 billion.\",\n",
    "    \"Tesla's Full Self-Driving revenue increased significantly.\",\n",
    "    \n",
    "    # Microsoft - Development & Acquisitions\n",
    "    \"Microsoft acquired GitHub for $7.5 billion in 2018.\",\n",
    "    \"Microsoft's cloud revenue Azure grew 29% year-over-year.\",\n",
    "    \"Microsoft announced new AI features for Visual Studio Code.\",\n",
    "    \"Microsoft Teams integration with GitHub enhances developer workflow.\",\n",
    "    \"Microsoft's developer tools division sees strong adoption.\",\n",
    "    \"Microsoft acquired Activision Blizzard for $68.7 billion.\",\n",
    "    \"Microsoft's productivity suite gained 50 million new users.\",\n",
    "    \"Microsoft announced new Surface devices for developers.\",\n",
    "    \"Microsoft's AI Copilot features expand to more development tools.\",\n",
    "    \"Microsoft's enterprise solutions drive revenue growth.\",\n",
    "    \n",
    "    # NVIDIA - AI & Hardware\n",
    "    \"NVIDIA's data center revenue reached $47.5 billion annually.\",\n",
    "    \"NVIDIA's H100 GPUs see unprecedented demand for AI training.\",\n",
    "    \"NVIDIA announced next-generation Blackwell architecture.\",\n",
    "    \"NVIDIA's gaming revenue declined due to crypto market changes.\",\n",
    "    \"NVIDIA's automotive AI platform partnerships expanded.\",\n",
    "    \"NVIDIA's AI chip shortage affects cloud providers.\",\n",
    "    \"NVIDIA stock valuation exceeds $2 trillion market cap.\",\n",
    "    \"NVIDIA's CUDA platform dominates AI development.\",\n",
    "    \"NVIDIA announced new AI inference chips for edge computing.\",\n",
    "    \"NVIDIA's partnership with major cloud providers strengthens.\",\n",
    "    \n",
    "    # Google/Alphabet - AI & Cloud\n",
    "    \"Google's AI investments total over $100 billion in recent years.\",\n",
    "    \"Google Cloud revenue grew 35% reaching $8.4 billion quarterly.\",\n",
    "    \"Google announced Gemini AI model competing with GPT-4.\",\n",
    "    \"Google's search advertising revenue remains strong at $59 billion.\",\n",
    "    \"Google's Workspace products integrate advanced AI features.\",\n",
    "    \"Google announced quantum computing breakthroughs.\",\n",
    "    \"Google's autonomous vehicle division Waymo expands operations.\",\n",
    "    \"Google's AI research published breakthrough papers.\",\n",
    "    \"Google's cloud AI services see enterprise adoption.\",\n",
    "    \"Google faces regulatory scrutiny over AI dominance.\",\n",
    "    \n",
    "    # Noisy/Less Relevant Chunks\n",
    "    \"The Tesla coil was invented by Nikola Tesla in 1891.\",\n",
    "    \"Microsoft Excel spreadsheet formulas can be complex for beginners.\",\n",
    "    \"NVIDIA Shield TV streaming device gets software update.\",\n",
    "    \"Google Maps navigation improved with real-time traffic data.\",\n",
    "    \"Production delays affected multiple manufacturing sectors.\",\n",
    "    \"Financial markets showed volatility during earnings season.\",\n",
    "    \"Revenue recognition standards changed for software companies.\",\n",
    "    \"Hardware components face supply chain constraints globally.\",\n",
    "    \"Development tools market grows with remote work trends.\",\n",
    "    \"AI research requires significant computational resources.\",\n",
    "    \"Quarterly reports show mixed results across tech sector.\",\n",
    "    \"Stock market analysts upgrade technology sector ratings.\",\n",
    "    \"Cloud computing adoption accelerates in enterprise market.\",\n",
    "    \"Data center construction increases globally.\",\n",
    "    \"Semiconductor shortage impacts various industries.\",\n",
    "    \"Electric vehicle charging infrastructure expands rapidly.\",\n",
    "    \"Software development productivity tools gain popularity.\",\n",
    "    \"Machine learning frameworks become more accessible.\",\n",
    "    \"Enterprise software licensing models evolve.\",\n",
    "    \"Technology conferences showcase latest innovations.\"\n",
    "]\n",
    "\n",
    "print(f\"Created {len(chunks)} sample chunks for demonstration\")\n"
   ]
  },
  {
   "cell_type": "code",
   "execution_count": 20,
   "id": "4b187096",
   "metadata": {},
   "outputs": [],
   "source": [
    "# Convert to Document objects\n",
    "documents = [Document(page_content=chunk, metadata={\"source\": f\"chunk_{i}\"}) for i, chunk in enumerate(chunks)]"
   ]
  },
  {
   "cell_type": "markdown",
   "id": "982af94c",
   "metadata": {},
   "source": [
    " \n",
    "SETUP: Create the three types of retrievers\n",
    "\n",
    "# 1. Vector Retriever (Semantic Search/Dense Retrieval)\n"
   ]
  },
  {
   "cell_type": "markdown",
   "id": "a5f3f2f6",
   "metadata": {},
   "source": [
    "Setting up hybrid retriever..."
   ]
  },
  {
   "cell_type": "code",
   "execution_count": 21,
   "id": "03dce8c4",
   "metadata": {},
   "outputs": [],
   "source": [
    "embedding_model = OpenAIEmbeddings(model=\"text-embedding-3-small\")\n",
    "vectorstore = Chroma.from_documents(\n",
    "    documents=documents,\n",
    "    embedding=embedding_model,\n",
    "    collection_metadata={\"hnsw:space\": \"cosine\"}\n",
    ")\n",
    "vector_retriever = vectorstore.as_retriever(search_kwargs={\"k\": 15})\n"
   ]
  },
  {
   "cell_type": "markdown",
   "id": "1e27064f",
   "metadata": {},
   "source": [
    "# 2. BM25 Retriever (Keyword Search/Sparse Retrieval)"
   ]
  },
  {
   "cell_type": "code",
   "execution_count": 22,
   "id": "53dce78c",
   "metadata": {},
   "outputs": [],
   "source": [
    "# 2. BM25 Retriever\n",
    "bm25_retriever = BM25Retriever.from_documents(documents)\n",
    "bm25_retriever.k = 15"
   ]
  },
  {
   "cell_type": "markdown",
   "id": "f3a254f9",
   "metadata": {},
   "source": [
    "# 3. Hybrid Retriever\n"
   ]
  },
  {
   "cell_type": "code",
   "execution_count": 23,
   "id": "fde8012a",
   "metadata": {},
   "outputs": [
    {
     "name": "stdout",
     "output_type": "stream",
     "text": [
      "Setup complete!\n",
      "\n"
     ]
    }
   ],
   "source": [
    "hybrid_retriever = EnsembleRetriever(\n",
    "    retrievers=[vector_retriever, bm25_retriever],\n",
    "    weights=[0.7, 0.3]\n",
    ")\n",
    "\n",
    "print(\"Setup complete!\\n\")\n"
   ]
  },
  {
   "cell_type": "markdown",
   "id": "8ebc9563",
   "metadata": {},
   "source": [
    "Step 1: Get results from hybrid search (retrieve more chunks)\n"
   ]
  },
  {
   "cell_type": "code",
   "execution_count": 30,
   "id": "7497fa3f",
   "metadata": {},
   "outputs": [
    {
     "name": "stdout",
     "output_type": "stream",
     "text": [
      "STEP 1: Hybrid Search Results\n",
      "--------------------------------------------------\n",
      " 1. Tesla reported strong free cash flow generation of $7.5 billion.\n",
      " 2. Tesla announced plans to expand Gigafactory production capacity.\n",
      " 3. Tesla reported record quarterly revenue of $25.2 billion in Q3 2024.\n",
      " 4. Tesla stock price reached new highs following earnings announcement.\n",
      " 5. Tesla's automotive gross margin improved to 19.3% this quarter.\n",
      " 6. Tesla's Full Self-Driving revenue increased significantly.\n",
      " 7. Tesla's energy storage business grew 40% year-over-year.\n",
      " 8. Tesla Cybertruck production ramp begins in 2024 with initial deliveries.\n",
      " 9. The Tesla coil was invented by Nikola Tesla in 1891.\n",
      "10. Tesla Model Y became the best-selling vehicle worldwide.\n",
      "11. Tesla continues to lead in electric vehicle market share globally.\n",
      "12. NVIDIA's AI chip shortage affects cloud providers.\n",
      "13. NVIDIA stock valuation exceeds $2 trillion market cap.\n",
      "14. Microsoft announced new Surface devices for developers.\n",
      "15. NVIDIA's automotive AI platform partnerships expanded.\n",
      "16. NVIDIA's gaming revenue declined due to crypto market changes.\n",
      "17. NVIDIA announced next-generation Blackwell architecture.\n",
      "18. NVIDIA's H100 GPUs see unprecedented demand for AI training.\n",
      "\n",
      "(Retrieved 18 total chunks for reranking)\n",
      "\n"
     ]
    }
   ],
   "source": [
    "query = \"Tesla financial performance and production updates\"\n",
    "\n",
    "print(\"STEP 1: Hybrid Search Results\")\n",
    "print(\"-\"*50)\n",
    "\n",
    "retrieved_docs = hybrid_retriever.invoke(query)  # Get top 25 for reranking\n",
    "\n",
    "# Show top 10 from hybrid search\n",
    "for i, doc in enumerate(retrieved_docs, 1):\n",
    "    print(f\"{i:2d}. {doc.page_content}\")\n",
    "\n",
    "print(f\"\\n(Retrieved {len(retrieved_docs)} total chunks for reranking)\\n\")\n"
   ]
  },
  {
   "cell_type": "markdown",
   "id": "32c7b477",
   "metadata": {},
   "source": [
    "Step 2: Apply Cohere Reranking"
   ]
  },
  {
   "cell_type": "code",
   "execution_count": 31,
   "id": "fbac9715",
   "metadata": {},
   "outputs": [
    {
     "name": "stdout",
     "output_type": "stream",
     "text": [
      "STEP 2: After Cohere Reranking (Top 10)\n",
      "--------------------------------------------------\n",
      " 1. Tesla reported strong free cash flow generation of $7.5 billion.\n",
      " 2. Tesla reported record quarterly revenue of $25.2 billion in Q3 2024.\n",
      " 3. Tesla's automotive gross margin improved to 19.3% this quarter.\n",
      " 4. Tesla announced plans to expand Gigafactory production capacity.\n",
      " 5. Tesla's energy storage business grew 40% year-over-year.\n",
      " 6. Tesla continues to lead in electric vehicle market share globally.\n",
      " 7. Tesla's Full Self-Driving revenue increased significantly.\n",
      " 8. Tesla Cybertruck production ramp begins in 2024 with initial deliveries.\n",
      " 9. Tesla stock price reached new highs following earnings announcement.\n",
      "10. Tesla Model Y became the best-selling vehicle worldwide.\n",
      "\n",
      "================================================================================\n",
      "ANALYSIS:\n",
      "✅ Hybrid Search: Mixed relevant and irrelevant results\n",
      "✅ Reranking: Most relevant Tesla financial/production info at top\n",
      "✅ Notice how reranking moved the most contextually relevant chunks higher\n",
      "\n",
      "================================================================================\n",
      "KEY IMPROVEMENTS AFTER RERANKING:\n",
      "----------------------------------------\n",
      "BEFORE (Hybrid Top 3):\n",
      "  1. Tesla reported strong free cash flow generation of $7.5 billion.\n",
      "  2. Tesla announced plans to expand Gigafactory production capacity.\n",
      "  3. Tesla reported record quarterly revenue of $25.2 billion in Q3 2024.\n",
      "  4. Tesla stock price reached new highs following earnings announcement.\n",
      "  5. Tesla's automotive gross margin improved to 19.3% this quarter.\n",
      "\n",
      "AFTER (Reranked Top 3):\n",
      "  1. Tesla reported strong free cash flow generation of $7.5 billion.\n",
      "  2. Tesla reported record quarterly revenue of $25.2 billion in Q3 2024.\n",
      "  3. Tesla's automotive gross margin improved to 19.3% this quarter.\n",
      "  4. Tesla announced plans to expand Gigafactory production capacity.\n",
      "  5. Tesla's energy storage business grew 40% year-over-year.\n"
     ]
    }
   ],
   "source": [
    "print(\"STEP 2: After Cohere Reranking (Top 10)\")\n",
    "print(\"-\"*50)\n",
    "\n",
    "# Initialize Cohere reranker\n",
    "reranker = CohereRerank(model=\"rerank-english-v3.0\", top_n=10)\n",
    "\n",
    "# Rerank the retrieved documents\n",
    "reranked_docs = reranker.compress_documents(retrieved_docs, query)\n",
    "\n",
    "# Show reranked results\n",
    "for i, doc in enumerate(reranked_docs, 1):\n",
    "    print(f\"{i:2d}. {doc.page_content}\")\n",
    "\n",
    "print(\"\\n\" + \"=\"*80)\n",
    "print(\"ANALYSIS:\")\n",
    "print(\"✅ Hybrid Search: Mixed relevant and irrelevant results\")\n",
    "print(\"✅ Reranking: Most relevant Tesla financial/production info at top\")\n",
    "print(\"✅ Notice how reranking moved the most contextually relevant chunks higher\")\n",
    "\n",
    "# Optional: Show the difference more clearly\n",
    "print(\"\\n\" + \"=\"*80)\n",
    "print(\"KEY IMPROVEMENTS AFTER RERANKING:\")\n",
    "print(\"-\"*40)\n",
    "\n",
    "\n",
    "hybrid_top_5 = [doc.page_content for doc in retrieved_docs[:5]]\n",
    "reranked_top_5= [doc.page_content for doc in reranked_docs[:5]]\n",
    "\n",
    "print(\"BEFORE (Hybrid Top 3):\")\n",
    "for i, content in enumerate(hybrid_top_5, 1):\n",
    "    print(f\"  {i}. {content}\")\n",
    "\n",
    "print(\"\\nAFTER (Reranked Top 3):\")\n",
    "for i, content in enumerate(reranked_top_5, 1):\n",
    "    print(f\"  {i}. {content}\")\n"
   ]
  },
  {
   "cell_type": "markdown",
   "id": "f1ebb952",
   "metadata": {},
   "source": [
    "FINAL RAG: Generate answer with reranked context"
   ]
  },
  {
   "cell_type": "code",
   "execution_count": 33,
   "id": "85f47d1c",
   "metadata": {},
   "outputs": [
    {
     "name": "stdout",
     "output_type": "stream",
     "text": [
      "\n",
      "================================================================================\n",
      "FINAL: RAG with Reranked Context\n",
      "----------------------------------------\n",
      "Generated Response:\n",
      "Tesla demonstrated a strong financial performance and positive production updates. The company generated a substantial free cash flow of $7.5 billion and achieved record quarterly revenue of $25.2 billion in the third quarter of 2024. Additionally, Tesla improved its automotive gross margin to 19.3%. They also announced plans to expand the production capacity of their Gigafactories. Furthermore, Tesla's energy storage business experienced significant growth, increasing by 40% year-over-year.\n"
     ]
    }
   ],
   "source": [
    "from langchain_core.messages import HumanMessage, SystemMessage\n",
    "from langchain_openai import ChatOpenAI\n",
    "\n",
    "print(\"\\n\" + \"=\"*80)\n",
    "print(\"FINAL: RAG with Reranked Context\")\n",
    "print(\"-\"*40)\n",
    "\n",
    "# Use top 5 reranked documents for final answer\n",
    "top_reranked = reranked_docs[:5]\n",
    "\n",
    "combined_input = f\"\"\"Based on the following documents, please answer this question: {query}\n",
    "\n",
    "Documents:\n",
    "{chr(10).join([f\"- {doc.page_content}\" for doc in top_reranked])}\n",
    "\n",
    "Please provide a clear, helpful answer using only the information from these documents.\"\"\"\n",
    "\n",
    "model = ChatOpenAI(model=\"gpt-4o\")\n",
    "messages = [\n",
    "    SystemMessage(content=\"You are a helpful assistant.\"),\n",
    "    HumanMessage(content=combined_input),\n",
    "]\n",
    "\n",
    "result = model.invoke(messages)\n",
    "print(\"Generated Response:\")\n",
    "print(result.content)"
   ]
  }
 ],
 "metadata": {
  "kernelspec": {
   "display_name": "venv",
   "language": "python",
   "name": "python3"
  },
  "language_info": {
   "codemirror_mode": {
    "name": "ipython",
    "version": 3
   },
   "file_extension": ".py",
   "mimetype": "text/x-python",
   "name": "python",
   "nbconvert_exporter": "python",
   "pygments_lexer": "ipython3",
   "version": "3.13.5"
  }
 },
 "nbformat": 4,
 "nbformat_minor": 5
}
