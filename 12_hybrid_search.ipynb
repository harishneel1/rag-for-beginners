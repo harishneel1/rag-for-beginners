{
 "cells": [
  {
   "cell_type": "code",
   "execution_count": 7,
   "id": "86d1febd",
   "metadata": {},
   "outputs": [
    {
     "data": {
      "text/plain": [
       "True"
      ]
     },
     "execution_count": 7,
     "metadata": {},
     "output_type": "execute_result"
    }
   ],
   "source": [
    "from langchain.retrievers import EnsembleRetriever, BM25Retriever\n",
    "from langchain_openai import OpenAIEmbeddings\n",
    "from langchain_chroma import Chroma\n",
    "from langchain_core.documents import Document\n",
    "from dotenv import load_dotenv\n",
    "\n",
    "load_dotenv()"
   ]
  },
  {
   "cell_type": "code",
   "execution_count": 15,
   "id": "b73591e9",
   "metadata": {},
   "outputs": [
    {
     "name": "stdout",
     "output_type": "stream",
     "text": [
      "Collecting rank_bm25\n",
      "  Downloading rank_bm25-0.2.2-py3-none-any.whl.metadata (3.2 kB)\n",
      "Requirement already satisfied: numpy in ./venv/lib/python3.13/site-packages (from rank_bm25) (2.2.6)\n",
      "Downloading rank_bm25-0.2.2-py3-none-any.whl (8.6 kB)\n",
      "Installing collected packages: rank_bm25\n",
      "Successfully installed rank_bm25-0.2.2\n",
      "\n",
      "\u001b[1m[\u001b[0m\u001b[34;49mnotice\u001b[0m\u001b[1;39;49m]\u001b[0m\u001b[39;49m A new release of pip is available: \u001b[0m\u001b[31;49m25.1.1\u001b[0m\u001b[39;49m -> \u001b[0m\u001b[32;49m25.2\u001b[0m\n",
      "\u001b[1m[\u001b[0m\u001b[34;49mnotice\u001b[0m\u001b[1;39;49m]\u001b[0m\u001b[39;49m To update, run: \u001b[0m\u001b[32;49mpip install --upgrade pip\u001b[0m\n",
      "Note: you may need to restart the kernel to use updated packages.\n"
     ]
    }
   ],
   "source": [
    "%pip install rank_bm25"
   ]
  },
  {
   "cell_type": "code",
   "execution_count": 8,
   "id": "8d76f132",
   "metadata": {},
   "outputs": [],
   "source": [
    "# ──────────────────────────────────────────────────────────────────\n",
    "# SETUP: Create our sample company data\n",
    "# ──────────────────────────────────────────────────────────────────\n",
    "\n",
    "chunks = [\n",
    "    \"Microsoft acquired GitHub for 7.5 billion dollars in 2018.\",\n",
    "    \"Tesla Cybertruck production ramp begins in 2024.\",\n",
    "    \"Google is a large technology company with global operations.\",\n",
    "    \"Tesla reported strong quarterly results. Tesla continues to lead in electric vehicles. Tesla announced new manufacturing facilities.\",\n",
    "    \"SpaceX develops Starship rockets for Mars missions.\",\n",
    "    \"The tech giant acquired the code repository platform for software development.\",\n",
    "    \"NVIDIA designs Starship architecture for their new GPUs.\",\n",
    "    \"Tesla Tesla Tesla financial quarterly results improved significantly.\",\n",
    "    \"Cybertruck reservations exceeded company expectations.\",\n",
    "    \"Microsoft is a large technology company with global operations.\"\n",
    "]"
   ]
  },
  {
   "cell_type": "code",
   "execution_count": 9,
   "id": "b37f8b4a",
   "metadata": {},
   "outputs": [
    {
     "name": "stdout",
     "output_type": "stream",
     "text": [
      "Sample Data:\n",
      "1. Microsoft acquired GitHub for 7.5 billion dollars in 2018.\n",
      "2. Tesla Cybertruck production ramp begins in 2024.\n",
      "3. Google is a large technology company with global operations.\n",
      "4. Tesla reported strong quarterly results. Tesla continues to lead in electric vehicles. Tesla announced new manufacturing facilities.\n",
      "5. SpaceX develops Starship rockets for Mars missions.\n",
      "6. The tech giant acquired the code repository platform for software development.\n",
      "7. NVIDIA designs Starship architecture for their new GPUs.\n",
      "8. Tesla Tesla Tesla financial quarterly results improved significantly.\n",
      "9. Cybertruck reservations exceeded company expectations.\n",
      "10. Microsoft is a large technology company with global operations.\n",
      "\n",
      "================================================================================\n"
     ]
    }
   ],
   "source": [
    "# Convert to Document objects for LangChain\n",
    "documents = [Document(page_content=chunk, metadata={\"source\": f\"chunk_{i}\"}) for i, chunk in enumerate(chunks)]\n",
    "\n",
    "print(\"Sample Data:\")\n",
    "for i, chunk in enumerate(chunks, 1):\n",
    "    print(f\"{i}. {chunk}\")\n",
    "\n",
    "print(\"\\n\" + \"=\"*80)"
   ]
  },
  {
   "cell_type": "markdown",
   "id": "5f258314",
   "metadata": {},
   "source": [
    " \n",
    "SETUP: Create the three types of retrievers\n",
    "\n",
    "# 1. Vector Retriever (Semantic Search)\n"
   ]
  },
  {
   "cell_type": "code",
   "execution_count": 20,
   "id": "d225aece",
   "metadata": {},
   "outputs": [
    {
     "name": "stdout",
     "output_type": "stream",
     "text": [
      "Setting up Vector Retriever...\n"
     ]
    }
   ],
   "source": [
    "print(\"Setting up Vector Retriever...\")\n",
    "embedding_model = OpenAIEmbeddings(model=\"text-embedding-3-small\")\n",
    "vectorstore = Chroma.from_documents(\n",
    "    documents=documents,\n",
    "    embedding=embedding_model,\n",
    "    collection_metadata={\"hnsw:space\": \"cosine\"}\n",
    ")\n",
    "vector_retriever = vectorstore.as_retriever(search_kwargs={\"k\": 3})"
   ]
  },
  {
   "cell_type": "code",
   "execution_count": 21,
   "id": "dc37ee53",
   "metadata": {},
   "outputs": [
    {
     "name": "stdout",
     "output_type": "stream",
     "text": [
      "Testing: 'electric car company financials'\n",
      "Found: Tesla Tesla Tesla financial quarterly results improved significantly.\n",
      "Found: Tesla Tesla Tesla financial quarterly results improved significantly.\n"
     ]
    }
   ],
   "source": [
    "# Test semantic search\n",
    "# test_query = \"How much did the purchase cost?\"\n",
    "test_query = \"electric car company financials\"\n",
    "# test_query = \"rocket development for space travel\"  \n",
    "\n",
    "print(f\"Testing: '{test_query}'\")\n",
    "test_docs = vector_retriever.invoke(test_query)\n",
    "for doc in test_docs[:2]:\n",
    "    print(f\"Found: {doc.page_content}\")"
   ]
  },
  {
   "cell_type": "markdown",
   "id": "7faac8cf",
   "metadata": {},
   "source": [
    "# 2. BM25 Retriever (Keyword Search)\n"
   ]
  },
  {
   "cell_type": "code",
   "execution_count": 22,
   "id": "f0bdc249",
   "metadata": {},
   "outputs": [
    {
     "name": "stdout",
     "output_type": "stream",
     "text": [
      "Setting up BM25 Retriever...\n"
     ]
    }
   ],
   "source": [
    "# 2. BM25 Retriever (Keyword Search)\n",
    "print(\"Setting up BM25 Retriever...\")\n",
    "bm25_retriever = BM25Retriever.from_documents(documents)\n",
    "bm25_retriever.k = 3"
   ]
  },
  {
   "cell_type": "code",
   "execution_count": 23,
   "id": "57ee7d8f",
   "metadata": {},
   "outputs": [
    {
     "name": "stdout",
     "output_type": "stream",
     "text": [
      "Testing: 'Tesla'\n",
      "Found: Tesla Tesla Tesla financial quarterly results improved significantly.\n",
      "Found: Tesla reported strong quarterly results. Tesla continues to lead in electric vehicles. Tesla announced new manufacturing facilities.\n"
     ]
    }
   ],
   "source": [
    "# Test exact keyword matching\n",
    "# test_query = \"7.5 billion\"\n",
    "# test_query = \"Cybertruck\"\n",
    "test_query = \"Tesla\"\n",
    "\n",
    "print(f\"Testing: '{test_query}'\")\n",
    "test_docs = bm25_retriever.invoke(test_query)\n",
    "for doc in test_docs[:2]:\n",
    "    print(f\"Found: {doc.page_content}\")"
   ]
  },
  {
   "cell_type": "markdown",
   "id": "50474545",
   "metadata": {},
   "source": [
    "# 3. Hybrid Retriever (Combination)"
   ]
  },
  {
   "cell_type": "code",
   "execution_count": 24,
   "id": "339b592d",
   "metadata": {},
   "outputs": [
    {
     "name": "stdout",
     "output_type": "stream",
     "text": [
      "Setting up Hybrid Retriever...\n",
      "Setup complete!\n",
      "\n"
     ]
    }
   ],
   "source": [
    "#  3. Hybrid Retriever (Combination)\n",
    "print(\"Setting up Hybrid Retriever...\")\n",
    "hybrid_retriever = EnsembleRetriever(\n",
    "    retrievers=[vector_retriever, bm25_retriever],\n",
    "    weights=[0.5, 0.5]  # Equal weight to vector and keyword search\n",
    ")\n",
    "\n",
    "print(\"Setup complete!\\n\")"
   ]
  },
  {
   "cell_type": "code",
   "execution_count": 31,
   "id": "c899708e",
   "metadata": {},
   "outputs": [
    {
     "name": "stdout",
     "output_type": "stream",
     "text": [
      "1. Microsoft acquired GitHub for 7.5 billion dollars in 2018.\n",
      "2. Cybertruck reservations exceeded company expectations.\n",
      "3. Microsoft is a large technology company with global operations.\n",
      "\n",
      "Query 1 shows how hybrid finds exact financial info using both semantic understanding and keyword matching\n"
     ]
    }
   ],
   "source": [
    "# Query 1: Mixed semantic and exact terms\n",
    "# Vector search understands \"purchase cost\" semantically\n",
    "# BM25 search finds exact \"7.5 billion\" \n",
    "# Hybrid should combine both strengths for best result\n",
    "test_query = \"purchase cost 7.5 billion\"\n",
    "\n",
    "test_docs = hybrid_retriever.invoke(test_query)\n",
    "for i, doc in enumerate(test_docs[:3], 1):\n",
    "    print(f\"{i}. {doc.page_content}\")\n",
    "print()\n",
    "\n",
    "print(\"Query 1 shows how hybrid finds exact financial info using both semantic understanding and keyword matching\")\n"
   ]
  },
  {
   "cell_type": "code",
   "execution_count": null,
   "id": "04c24db1",
   "metadata": {},
   "outputs": [
    {
     "name": "stdout",
     "output_type": "stream",
     "text": [
      "1. Tesla Cybertruck production ramp begins in 2024.\n",
      "2. Cybertruck reservations exceeded company expectations.\n",
      "3. Tesla reported strong quarterly results. Tesla continues to lead in electric vehicles. Tesla announced new manufacturing facilities.\n"
     ]
    }
   ],
   "source": [
    "# Query 2: Semantic concept + specific product name  \n",
    "\n",
    "# Vector search understands \"electric vehicle manufacturing\"\n",
    "# BM25 search finds exact \"Cybertruck\"\n",
    "# Hybrid gets the best of both worlds\n",
    "\n",
    "test_query = \"electric vehicle manufacturing Cybertruck\"\n",
    "\n",
    "test_docs = hybrid_retriever.invoke(test_query)\n",
    "\n",
    "for i, doc in enumerate(test_docs[:3], 1):\n",
    "    print(f\"{i}. {doc.page_content}\")\n",
    "print()\n",
    "\n",
    "print(\"Query 2 demonstrates combining product-specific terms with broader concepts\")\n",
    "\n"
   ]
  },
  {
   "cell_type": "code",
   "execution_count": 32,
   "id": "d449b74d",
   "metadata": {},
   "outputs": [
    {
     "name": "stdout",
     "output_type": "stream",
     "text": [
      "1. Tesla Tesla Tesla financial quarterly results improved significantly.\n",
      "2. Tesla reported strong quarterly results. Tesla continues to lead in electric vehicles. Tesla announced new manufacturing facilities.\n",
      "3. Cybertruck reservations exceeded company expectations.\n",
      "\n",
      "Query 3 shows how hybrid handles mixed semantic/keyword queries better than either approach alone\n"
     ]
    }
   ],
   "source": [
    "# Query 3: Where neither alone would be perfect\n",
    "\n",
    "# \"Company performance\" is semantic, \"Tesla\" is exact keyword\n",
    "# Hybrid should find the most relevant Tesla performance info\n",
    "\n",
    "test_query = \"company performance Tesla\"\n",
    "\n",
    "test_docs = hybrid_retriever.invoke(test_query)\n",
    "for i, doc in enumerate(test_docs[:3], 1):\n",
    "    print(f\"{i}. {doc.page_content}\")\n",
    "print()\n",
    "\n",
    "print(\"Query 3 shows how hybrid handles mixed semantic/keyword queries better than either approach alone\")"
   ]
  }
 ],
 "metadata": {
  "kernelspec": {
   "display_name": "venv",
   "language": "python",
   "name": "python3"
  },
  "language_info": {
   "codemirror_mode": {
    "name": "ipython",
    "version": 3
   },
   "file_extension": ".py",
   "mimetype": "text/x-python",
   "name": "python",
   "nbconvert_exporter": "python",
   "pygments_lexer": "ipython3",
   "version": "3.13.5"
  }
 },
 "nbformat": 4,
 "nbformat_minor": 5
}
